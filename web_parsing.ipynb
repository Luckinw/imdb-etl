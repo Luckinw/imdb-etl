{
 "cells": [
  {
   "cell_type": "code",
   "execution_count": 76,
   "id": "4abfc77a",
   "metadata": {},
   "outputs": [],
   "source": [
    "from bs4 import BeautifulSoup\n",
    "import pandas as pd\n",
    "import requests\n",
    "import numpy as np\n",
    "from time import sleep\n",
    "from random import randint"
   ]
  },
  {
   "cell_type": "code",
   "execution_count": 71,
   "id": "ae28403b",
   "metadata": {},
   "outputs": [],
   "source": [
    "arr_of_genres = np.array(['comedy', 'action', 'adventure', 'crime', 'animation', 'documentary', 'biography', 'drama',\n",
    "                              'film-noir', 'family', 'fantasy', 'history', 'western', 'short', 'news', 'reality-tv', 'sport',\n",
    "                              'talk-show', 'romance', 'sci-fi', 'thriller', 'war', 'musical', 'game-show', 'music', 'horror'])\n"
   ]
  },
  {
   "cell_type": "code",
   "execution_count": 77,
   "id": "c916fe54",
   "metadata": {},
   "outputs": [],
   "source": [
    "headers = {\n",
    "    'User-Agent': 'Mozilla/5.0 (Windows NT 10.0; Win64; x64) AppleWebKit/537.36 (KHTML, like Gecko) Chrome/91.0.4472.124 Safari/537.36 OPR/77.0.4054.277 (Edition Campaign 82)'\n",
    "}\n",
    "\n",
    "data = {'titles': [], 'ratings': [], 'year_lengths': []}\n",
    "\n",
    "for genre in arr_of_genres:\n",
    "    url = f'https://www.imdb.com/search/title/?genres={genre}&sort=moviemeter,asc'\n",
    "    resp = requests.get(url, headers=headers)\n",
    "    soup = BeautifulSoup(resp.text, 'html.parser')\n",
    "    path = soup.find_all('li', class_='ipc-metadata-list-summary-item')\n",
    "\n",
    "    data['titles'] += [item.find('h3', class_='ipc-title__text').text for item in path]\n",
    "    data['ratings'] += [(item.find('span', class_='ipc-rating-star ipc-rating-star--base ipc-rating-star--imdb ratingGroup--imdb-rating').text if item.find('span', class_='ipc-rating-star ipc-rating-star--base ipc-rating-star--imdb ratingGroup--imdb-rating') else 'not available') for item in path]\n",
    "    data['year_lengths'] += [[span.text for span in item.find_all('span', class_='sc-be6f1408-8 fcCUPU dli-title-metadata-item')] for item in path]\n",
    "\n",
    "    sleep(randint(3, 15))"
   ]
  },
  {
   "cell_type": "code",
   "execution_count": 79,
   "id": "dc5cdd30",
   "metadata": {},
   "outputs": [],
   "source": [
    "df = pd.DataFrame(data)"
   ]
  },
  {
   "cell_type": "code",
   "execution_count": null,
   "id": "aad2ba55",
   "metadata": {},
   "outputs": [],
   "source": [
    "df.head(10)"
   ]
  },
  {
   "cell_type": "code",
   "execution_count": null,
   "id": "6187e42e",
   "metadata": {},
   "outputs": [],
   "source": [
    "df.to_csv('film_data.csv', index=False)"
   ]
  }
 ],
 "metadata": {
  "kernelspec": {
   "display_name": "Python 3 (ipykernel)",
   "language": "python",
   "name": "python3"
  },
  "language_info": {
   "codemirror_mode": {
    "name": "ipython",
    "version": 3
   },
   "file_extension": ".py",
   "mimetype": "text/x-python",
   "name": "python",
   "nbconvert_exporter": "python",
   "pygments_lexer": "ipython3",
   "version": "3.11.2"
  },
  "varInspector": {
   "cols": {
    "lenName": 16,
    "lenType": 16,
    "lenVar": 40
   },
   "kernels_config": {
    "python": {
     "delete_cmd_postfix": "",
     "delete_cmd_prefix": "del ",
     "library": "var_list.py",
     "varRefreshCmd": "print(var_dic_list())"
    },
    "r": {
     "delete_cmd_postfix": ") ",
     "delete_cmd_prefix": "rm(",
     "library": "var_list.r",
     "varRefreshCmd": "cat(var_dic_list()) "
    }
   },
   "types_to_exclude": [
    "module",
    "function",
    "builtin_function_or_method",
    "instance",
    "_Feature"
   ],
   "window_display": false
  }
 },
 "nbformat": 4,
 "nbformat_minor": 5
}
