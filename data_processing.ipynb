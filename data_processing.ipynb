{
 "cells": [
  {
   "cell_type": "code",
   "execution_count": 1,
   "id": "9202ad11",
   "metadata": {},
   "outputs": [],
   "source": [
    "import pandas as pd\n",
    "import numpy as np"
   ]
  },
  {
   "cell_type": "code",
   "execution_count": 178,
   "id": "f17b16b4",
   "metadata": {},
   "outputs": [],
   "source": [
    "file = 'film_data.csv'\n",
    "df = pd.read_csv(file)"
   ]
  },
  {
   "cell_type": "code",
   "execution_count": 179,
   "id": "f7ed6fc0",
   "metadata": {},
   "outputs": [
    {
     "data": {
      "text/plain": [
       "(1300, 3)"
      ]
     },
     "execution_count": 179,
     "metadata": {},
     "output_type": "execute_result"
    }
   ],
   "source": [
    "df.shape"
   ]
  },
  {
   "cell_type": "code",
   "execution_count": 180,
   "id": "6daf9274",
   "metadata": {},
   "outputs": [
    {
     "data": {
      "text/html": [
       "<div>\n",
       "<style scoped>\n",
       "    .dataframe tbody tr th:only-of-type {\n",
       "        vertical-align: middle;\n",
       "    }\n",
       "\n",
       "    .dataframe tbody tr th {\n",
       "        vertical-align: top;\n",
       "    }\n",
       "\n",
       "    .dataframe thead th {\n",
       "        text-align: right;\n",
       "    }\n",
       "</style>\n",
       "<table border=\"1\" class=\"dataframe\">\n",
       "  <thead>\n",
       "    <tr style=\"text-align: right;\">\n",
       "      <th></th>\n",
       "      <th>titles</th>\n",
       "      <th>ratings</th>\n",
       "      <th>year_lengths</th>\n",
       "    </tr>\n",
       "  </thead>\n",
       "  <tbody>\n",
       "    <tr>\n",
       "      <th>0</th>\n",
       "      <td>1. Saltburn</td>\n",
       "      <td>7.1 (152K)</td>\n",
       "      <td>['2023', '2h 11m', 'R']</td>\n",
       "    </tr>\n",
       "    <tr>\n",
       "      <th>1</th>\n",
       "      <td>2. Poor Things</td>\n",
       "      <td>8.4 (60K)</td>\n",
       "      <td>['2023', '2h 21m', 'R']</td>\n",
       "    </tr>\n",
       "    <tr>\n",
       "      <th>2</th>\n",
       "      <td>3. The Bear</td>\n",
       "      <td>8.6 (190K)</td>\n",
       "      <td>['2022– ', 'TV-MA']</td>\n",
       "    </tr>\n",
       "    <tr>\n",
       "      <th>3</th>\n",
       "      <td>4. Mean Girls</td>\n",
       "      <td>6.3 (11K)</td>\n",
       "      <td>['2024', '1h 52m', 'PG-13']</td>\n",
       "    </tr>\n",
       "    <tr>\n",
       "      <th>4</th>\n",
       "      <td>5. Ted</td>\n",
       "      <td>8.0 (14K)</td>\n",
       "      <td>['2024', 'TV-MA']</td>\n",
       "    </tr>\n",
       "    <tr>\n",
       "      <th>...</th>\n",
       "      <td>...</td>\n",
       "      <td>...</td>\n",
       "      <td>...</td>\n",
       "    </tr>\n",
       "    <tr>\n",
       "      <th>1295</th>\n",
       "      <td>46. Hereditary</td>\n",
       "      <td>7.3 (369K)</td>\n",
       "      <td>['2018', '2h 7m', 'R']</td>\n",
       "    </tr>\n",
       "    <tr>\n",
       "      <th>1296</th>\n",
       "      <td>47. The Twilight Zone</td>\n",
       "      <td>9.1 (92K)</td>\n",
       "      <td>['1959–1964', 'TV-PG']</td>\n",
       "    </tr>\n",
       "    <tr>\n",
       "      <th>1297</th>\n",
       "      <td>48. Founders Day</td>\n",
       "      <td>4.6 (636)</td>\n",
       "      <td>['2023', '1h 46m', 'R']</td>\n",
       "    </tr>\n",
       "    <tr>\n",
       "      <th>1298</th>\n",
       "      <td>49. American Horror Stories</td>\n",
       "      <td>6.3 (26K)</td>\n",
       "      <td>['2021– ', 'TV-MA']</td>\n",
       "    </tr>\n",
       "    <tr>\n",
       "      <th>1299</th>\n",
       "      <td>50. Alien: Romulus</td>\n",
       "      <td>not available</td>\n",
       "      <td>['2024']</td>\n",
       "    </tr>\n",
       "  </tbody>\n",
       "</table>\n",
       "<p>1272 rows × 3 columns</p>\n",
       "</div>"
      ],
      "text/plain": [
       "                           titles        ratings                 year_lengths\n",
       "0                     1. Saltburn     7.1 (152K)      ['2023', '2h 11m', 'R']\n",
       "1                  2. Poor Things      8.4 (60K)      ['2023', '2h 21m', 'R']\n",
       "2                     3. The Bear     8.6 (190K)          ['2022– ', 'TV-MA']\n",
       "3                   4. Mean Girls      6.3 (11K)  ['2024', '1h 52m', 'PG-13']\n",
       "4                          5. Ted      8.0 (14K)            ['2024', 'TV-MA']\n",
       "...                           ...            ...                          ...\n",
       "1295               46. Hereditary     7.3 (369K)       ['2018', '2h 7m', 'R']\n",
       "1296        47. The Twilight Zone      9.1 (92K)       ['1959–1964', 'TV-PG']\n",
       "1297             48. Founders Day      4.6 (636)      ['2023', '1h 46m', 'R']\n",
       "1298  49. American Horror Stories      6.3 (26K)          ['2021– ', 'TV-MA']\n",
       "1299           50. Alien: Romulus  not available                     ['2024']\n",
       "\n",
       "[1272 rows x 3 columns]"
      ]
     },
     "execution_count": 180,
     "metadata": {},
     "output_type": "execute_result"
    }
   ],
   "source": [
    "df.drop_duplicates()"
   ]
  },
  {
   "cell_type": "code",
   "execution_count": 181,
   "id": "8d6ef51d",
   "metadata": {},
   "outputs": [],
   "source": [
    "df['year_lengths'] = df['year_lengths'].str.replace(\"'\", '').str.replace('[', '').str.replace(']', '')"
   ]
  },
  {
   "cell_type": "code",
   "execution_count": 182,
   "id": "c5955009",
   "metadata": {},
   "outputs": [],
   "source": [
    "df['year_lengths'] = df['year_lengths'].astype(str)\n"
   ]
  },
  {
   "cell_type": "code",
   "execution_count": 183,
   "id": "dc8cca18",
   "metadata": {},
   "outputs": [],
   "source": [
    "condition = df['year_lengths'].apply(lambda x: len(x.split(', ')) == 3)\n",
    "df[['publish_year', 'length', 'age_restriction']] = df.loc[condition, 'year_lengths'].str.split(', ', expand=True)\n"
   ]
  },
  {
   "cell_type": "code",
   "execution_count": 184,
   "id": "ae78ddb6",
   "metadata": {},
   "outputs": [],
   "source": [
    "condition = df['year_lengths'].apply(lambda x: len(x.split(', ')) == 2)\n",
    "for i in df.loc[condition, 'year_lengths'].apply(lambda x: x.split(', ')):\n",
    "    if i[0].startswith(('20', '19')):\n",
    "        df.loc[condition, 'publish_year'] = i[0]\n",
    "    if 'h' in i[1] or 'm' in i[1]:\n",
    "        df.loc[condition, 'length'] = i[1]\n",
    "    else:\n",
    "        df.loc[condition, 'age_restriction'] = i[1]"
   ]
  },
  {
   "cell_type": "code",
   "execution_count": 185,
   "id": "faf0ea20",
   "metadata": {},
   "outputs": [],
   "source": [
    "condition = df['year_lengths'].apply(lambda x: len(x.split(', ')) == 1)\n",
    "df.loc[condition, 'publish_year'] = df.loc[condition, 'year_lengths']\n"
   ]
  },
  {
   "cell_type": "code",
   "execution_count": 186,
   "id": "197772db",
   "metadata": {},
   "outputs": [],
   "source": [
    "df.drop(columns='year_lengths',inplace=True)"
   ]
  },
  {
   "cell_type": "code",
   "execution_count": 187,
   "id": "67dc13da",
   "metadata": {},
   "outputs": [],
   "source": [
    "for i in df.columns:\n",
    "    df[i] = df[i].astype(str)"
   ]
  },
  {
   "cell_type": "code",
   "execution_count": 188,
   "id": "c7a652f5",
   "metadata": {},
   "outputs": [],
   "source": [
    "df['publish_year'].replace('–', '', inplace=True)\n"
   ]
  },
  {
   "cell_type": "code",
   "execution_count": 189,
   "id": "e3a5ca1f",
   "metadata": {},
   "outputs": [],
   "source": [
    "df.loc[df['publish_year'].str.len() <= 6, 'publish_year'] = df.loc[df['publish_year'].str.len() <= 6, 'publish_year'].str.replace('–', '')"
   ]
  },
  {
   "cell_type": "code",
   "execution_count": 268,
   "id": "4a98d153",
   "metadata": {},
   "outputs": [],
   "source": [
    "df['votes'] = df['ratings'].str[4:]\n",
    "df['votes'].replace('available','not available',inplace=True)\n",
    "df['votes'] = df['votes'].str.strip() \n",
    "df['votes'] = df['votes'].str.replace(r'[\\(\\)]', '',regex=True)\n",
    "\n"
   ]
  },
  {
   "cell_type": "code",
   "execution_count": 269,
   "id": "1a10653b",
   "metadata": {},
   "outputs": [],
   "source": [
    "df['rating'] = df['ratings'].str[:4]\n",
    "df['rating'].replace('\\xa0','',inplace=True)\n",
    "df['rating'] = df['rating'].str.strip() \n",
    "df['rating'].replace('not', 'not available', inplace=True)"
   ]
  },
  {
   "cell_type": "code",
   "execution_count": 270,
   "id": "05d4bf19",
   "metadata": {},
   "outputs": [],
   "source": [
    "df['age_restriction'].replace('nan', 'not available', inplace=True)\n",
    "df['length'].replace('nan', 'not available', inplace=True)\n"
   ]
  },
  {
   "cell_type": "code",
   "execution_count": 271,
   "id": "c3f8c174",
   "metadata": {},
   "outputs": [],
   "source": [
    "df['titles'] = df['titles'].str.replace(r'^\\d+\\.\\s', '',regex=True)"
   ]
  },
  {
   "cell_type": "code",
   "execution_count": 274,
   "id": "0376d04f",
   "metadata": {},
   "outputs": [],
   "source": [
    "df.drop(columns='ratings',axis=1,inplace=True)"
   ]
  },
  {
   "cell_type": "code",
   "execution_count": 276,
   "id": "76bd2eb0",
   "metadata": {},
   "outputs": [],
   "source": [
    "df.to_csv('film_data.csv', index=False)"
   ]
  },
  {
   "cell_type": "code",
   "execution_count": null,
   "id": "52d8374d",
   "metadata": {},
   "outputs": [],
   "source": []
  }
 ],
 "metadata": {
  "kernelspec": {
   "display_name": "Python 3 (ipykernel)",
   "language": "python",
   "name": "python3"
  },
  "language_info": {
   "codemirror_mode": {
    "name": "ipython",
    "version": 3
   },
   "file_extension": ".py",
   "mimetype": "text/x-python",
   "name": "python",
   "nbconvert_exporter": "python",
   "pygments_lexer": "ipython3",
   "version": "3.11.2"
  },
  "varInspector": {
   "cols": {
    "lenName": 16,
    "lenType": 16,
    "lenVar": 40
   },
   "kernels_config": {
    "python": {
     "delete_cmd_postfix": "",
     "delete_cmd_prefix": "del ",
     "library": "var_list.py",
     "varRefreshCmd": "print(var_dic_list())"
    },
    "r": {
     "delete_cmd_postfix": ") ",
     "delete_cmd_prefix": "rm(",
     "library": "var_list.r",
     "varRefreshCmd": "cat(var_dic_list()) "
    }
   },
   "types_to_exclude": [
    "module",
    "function",
    "builtin_function_or_method",
    "instance",
    "_Feature"
   ],
   "window_display": false
  }
 },
 "nbformat": 4,
 "nbformat_minor": 5
}
